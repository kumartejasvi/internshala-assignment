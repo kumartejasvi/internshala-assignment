{
 "cells": [
  {
   "cell_type": "code",
   "execution_count": 5,
   "id": "30764568",
   "metadata": {},
   "outputs": [],
   "source": [
    "import csv\n",
    "import json\n",
    "infile=open(\"myjson.json\",\"r\")\n",
    "outfile=open(\"abc.csv\",\"w\")\n",
    "writer = csv.writer(outfile)\n",
    "for row in json.loads(infile.read()):\n",
    "    writer.writerow(row)\n",
    "outfile.close()"
   ]
  },
  {
   "cell_type": "code",
   "execution_count": null,
   "id": "09fb17ab",
   "metadata": {},
   "outputs": [],
   "source": []
  }
 ],
 "metadata": {
  "kernelspec": {
   "display_name": "Python 3",
   "language": "python",
   "name": "python3"
  },
  "language_info": {
   "codemirror_mode": {
    "name": "ipython",
    "version": 3
   },
   "file_extension": ".py",
   "mimetype": "text/x-python",
   "name": "python",
   "nbconvert_exporter": "python",
   "pygments_lexer": "ipython3",
   "version": "3.8.8"
  }
 },
 "nbformat": 4,
 "nbformat_minor": 5
}
